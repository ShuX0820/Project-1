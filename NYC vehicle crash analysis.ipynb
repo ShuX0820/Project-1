{
 "cells": [
  {
   "cell_type": "markdown",
   "id": "3128e4a4-ecd2-40d9-8b6c-b1e12c04b503",
   "metadata": {},
   "source": [
    "# NY Motor Vehicle Collisions – Exploratory Data Analysis\n",
    "In this notebook, we analyze New York’s Vehicular crash data available at https://data.cityofnewyork.us/Public-Safety/Motor-Vehicle-Collisions-Crashes/h9gi-nx95\n",
    "\n",
    "The data contains information from all police reported motor vehicle collisions in NYC. The information for this dataset is collated from the police report, called MV104-AN, which is required to be filled out for collisions where someone is injured or killed, or where there is at least $1000 worth of damage.\n",
    "\n",
    "Data is available from 2012-07-01 onwards, however for this analysis, we will limit ourselves to the period up to 2023-08-15, which is when the data was downloaded.\n",
    "\n",
    "We find that this data contains over 2 million observations, which allows us to explore several aspects of vehicle crashes in NY's boroughs.\n",
    "\n",
    "The data dictionary for the data is also available at the URL above.\n",
    "\n",
    "First, we perform unstructured exploration of the data, and then try to answer the following questions:\n",
    "\n",
    "We look for which borough has had the maximum number of crashes reported since 2012.\n",
    "\n",
    "We relate the number of crashes to to the borough's population to find out which borough has the maximum number of crashes for every 100,000 people. Even though the data does not have this information, we can combine the crash data with the population estimates for the boroughs also available from the City of New York's website (https://data.cityofnewyork.us/City-Government/New-York-City-Population-by-Borough-1950-2040/xywu-7bv9)\n",
    "\n",
    "Borough\tPopulation\n",
    "Bronx\t1446788\n",
    "Brooklyn\t2648452\n",
    "Manhattan\t1638281\n",
    "Queens\t2330295\n",
    "Staten Island\t487155\n",
    "We look for the leading cause of crashes\n",
    "\n",
    "We also look for the top-3 causes of crashes, and try to calculate what proportion of all crashes are caused by these top-3 causes.\n",
    "\n",
    "We then look to some of the more serious implications of crashes by examining how many accidents involved at least one fatality.\n",
    "\n",
    "We then compute, on average, out of every 1000 accidents, how many have resulted in at least one person dead.\n",
    "\n",
    "We also look for missing data and try to compute the proportion of accidents in the data that do not have a Borough code.\n",
    "\n",
    "The fields 'VEHICLE TYPE CODE 1' and 'VEHICLE TYPE CODE 2' represent the first two vehicles involved in the accident. We look for which combinations of vehicles have the most number of accidents."
   ]
  },
  {
   "cell_type": "code",
   "execution_count": 1,
   "id": "1f7fb756-f262-4d67-9c17-9cd6879c06ef",
   "metadata": {},
   "outputs": [],
   "source": [
    "import pandas as pd\n",
    "import numpy as np\n",
    "import seaborn as sns\n",
    "import os\n",
    "import matplotlib.pyplot as plt\n",
    "import phik\n",
    "from IPython.display import Markdown as md"
   ]
  },
  {
   "cell_type": "code",
   "execution_count": 3,
   "id": "d8de924c-4cab-4ba7-a3e1-1599f7dce4b1",
   "metadata": {},
   "outputs": [
    {
     "data": {
      "text/html": [
       "<div>\n",
       "<style scoped>\n",
       "    .dataframe tbody tr th:only-of-type {\n",
       "        vertical-align: middle;\n",
       "    }\n",
       "\n",
       "    .dataframe tbody tr th {\n",
       "        vertical-align: top;\n",
       "    }\n",
       "\n",
       "    .dataframe thead th {\n",
       "        text-align: right;\n",
       "    }\n",
       "</style>\n",
       "<table border=\"1\" class=\"dataframe\">\n",
       "  <thead>\n",
       "    <tr style=\"text-align: right;\">\n",
       "      <th></th>\n",
       "      <th>CRASH DATE_CRASH TIME</th>\n",
       "      <th>BOROUGH</th>\n",
       "      <th>ZIP CODE</th>\n",
       "      <th>LATITUDE</th>\n",
       "      <th>LONGITUDE</th>\n",
       "      <th>LOCATION</th>\n",
       "      <th>ON STREET NAME</th>\n",
       "      <th>CROSS STREET NAME</th>\n",
       "      <th>OFF STREET NAME</th>\n",
       "      <th>NUMBER OF PERSONS INJURED</th>\n",
       "      <th>...</th>\n",
       "      <th>CONTRIBUTING FACTOR VEHICLE 2</th>\n",
       "      <th>CONTRIBUTING FACTOR VEHICLE 3</th>\n",
       "      <th>CONTRIBUTING FACTOR VEHICLE 4</th>\n",
       "      <th>CONTRIBUTING FACTOR VEHICLE 5</th>\n",
       "      <th>COLLISION_ID</th>\n",
       "      <th>VEHICLE TYPE CODE 1</th>\n",
       "      <th>VEHICLE TYPE CODE 2</th>\n",
       "      <th>VEHICLE TYPE CODE 3</th>\n",
       "      <th>VEHICLE TYPE CODE 4</th>\n",
       "      <th>VEHICLE TYPE CODE 5</th>\n",
       "    </tr>\n",
       "  </thead>\n",
       "  <tbody>\n",
       "    <tr>\n",
       "      <th>0</th>\n",
       "      <td>2021-09-11 02:39:00</td>\n",
       "      <td>NaN</td>\n",
       "      <td>NaN</td>\n",
       "      <td>NaN</td>\n",
       "      <td>NaN</td>\n",
       "      <td>NaN</td>\n",
       "      <td>WHITESTONE EXPRESSWAY</td>\n",
       "      <td>20 AVENUE</td>\n",
       "      <td>NaN</td>\n",
       "      <td>2.0</td>\n",
       "      <td>...</td>\n",
       "      <td>Unspecified</td>\n",
       "      <td>NaN</td>\n",
       "      <td>NaN</td>\n",
       "      <td>NaN</td>\n",
       "      <td>4455765</td>\n",
       "      <td>Sedan</td>\n",
       "      <td>Sedan</td>\n",
       "      <td>NaN</td>\n",
       "      <td>NaN</td>\n",
       "      <td>NaN</td>\n",
       "    </tr>\n",
       "    <tr>\n",
       "      <th>1</th>\n",
       "      <td>2022-03-26 11:45:00</td>\n",
       "      <td>NaN</td>\n",
       "      <td>NaN</td>\n",
       "      <td>NaN</td>\n",
       "      <td>NaN</td>\n",
       "      <td>NaN</td>\n",
       "      <td>QUEENSBORO BRIDGE UPPER</td>\n",
       "      <td>NaN</td>\n",
       "      <td>NaN</td>\n",
       "      <td>1.0</td>\n",
       "      <td>...</td>\n",
       "      <td>NaN</td>\n",
       "      <td>NaN</td>\n",
       "      <td>NaN</td>\n",
       "      <td>NaN</td>\n",
       "      <td>4513547</td>\n",
       "      <td>Sedan</td>\n",
       "      <td>NaN</td>\n",
       "      <td>NaN</td>\n",
       "      <td>NaN</td>\n",
       "      <td>NaN</td>\n",
       "    </tr>\n",
       "    <tr>\n",
       "      <th>2</th>\n",
       "      <td>2022-06-29 06:55:00</td>\n",
       "      <td>NaN</td>\n",
       "      <td>NaN</td>\n",
       "      <td>NaN</td>\n",
       "      <td>NaN</td>\n",
       "      <td>NaN</td>\n",
       "      <td>THROGS NECK BRIDGE</td>\n",
       "      <td>NaN</td>\n",
       "      <td>NaN</td>\n",
       "      <td>0.0</td>\n",
       "      <td>...</td>\n",
       "      <td>Unspecified</td>\n",
       "      <td>NaN</td>\n",
       "      <td>NaN</td>\n",
       "      <td>NaN</td>\n",
       "      <td>4541903</td>\n",
       "      <td>Sedan</td>\n",
       "      <td>Pick-up Truck</td>\n",
       "      <td>NaN</td>\n",
       "      <td>NaN</td>\n",
       "      <td>NaN</td>\n",
       "    </tr>\n",
       "    <tr>\n",
       "      <th>3</th>\n",
       "      <td>2021-09-11 09:35:00</td>\n",
       "      <td>BROOKLYN</td>\n",
       "      <td>11208.0</td>\n",
       "      <td>40.667202</td>\n",
       "      <td>-73.866500</td>\n",
       "      <td>(40.667202, -73.8665)</td>\n",
       "      <td>NaN</td>\n",
       "      <td>NaN</td>\n",
       "      <td>1211      LORING AVENUE</td>\n",
       "      <td>0.0</td>\n",
       "      <td>...</td>\n",
       "      <td>NaN</td>\n",
       "      <td>NaN</td>\n",
       "      <td>NaN</td>\n",
       "      <td>NaN</td>\n",
       "      <td>4456314</td>\n",
       "      <td>Sedan</td>\n",
       "      <td>NaN</td>\n",
       "      <td>NaN</td>\n",
       "      <td>NaN</td>\n",
       "      <td>NaN</td>\n",
       "    </tr>\n",
       "    <tr>\n",
       "      <th>4</th>\n",
       "      <td>2021-12-14 08:13:00</td>\n",
       "      <td>BROOKLYN</td>\n",
       "      <td>11233.0</td>\n",
       "      <td>40.683304</td>\n",
       "      <td>-73.917274</td>\n",
       "      <td>(40.683304, -73.917274)</td>\n",
       "      <td>SARATOGA AVENUE</td>\n",
       "      <td>DECATUR STREET</td>\n",
       "      <td>NaN</td>\n",
       "      <td>0.0</td>\n",
       "      <td>...</td>\n",
       "      <td>NaN</td>\n",
       "      <td>NaN</td>\n",
       "      <td>NaN</td>\n",
       "      <td>NaN</td>\n",
       "      <td>4486609</td>\n",
       "      <td>NaN</td>\n",
       "      <td>NaN</td>\n",
       "      <td>NaN</td>\n",
       "      <td>NaN</td>\n",
       "      <td>NaN</td>\n",
       "    </tr>\n",
       "    <tr>\n",
       "      <th>...</th>\n",
       "      <td>...</td>\n",
       "      <td>...</td>\n",
       "      <td>...</td>\n",
       "      <td>...</td>\n",
       "      <td>...</td>\n",
       "      <td>...</td>\n",
       "      <td>...</td>\n",
       "      <td>...</td>\n",
       "      <td>...</td>\n",
       "      <td>...</td>\n",
       "      <td>...</td>\n",
       "      <td>...</td>\n",
       "      <td>...</td>\n",
       "      <td>...</td>\n",
       "      <td>...</td>\n",
       "      <td>...</td>\n",
       "      <td>...</td>\n",
       "      <td>...</td>\n",
       "      <td>...</td>\n",
       "      <td>...</td>\n",
       "      <td>...</td>\n",
       "    </tr>\n",
       "    <tr>\n",
       "      <th>2018240</th>\n",
       "      <td>2023-07-03 18:05:00</td>\n",
       "      <td>NaN</td>\n",
       "      <td>NaN</td>\n",
       "      <td>40.866806</td>\n",
       "      <td>-73.931010</td>\n",
       "      <td>(40.866806, -73.93101)</td>\n",
       "      <td>RIVERSIDE DRIVE</td>\n",
       "      <td>NaN</td>\n",
       "      <td>NaN</td>\n",
       "      <td>0.0</td>\n",
       "      <td>...</td>\n",
       "      <td>Unspecified</td>\n",
       "      <td>NaN</td>\n",
       "      <td>NaN</td>\n",
       "      <td>NaN</td>\n",
       "      <td>4648110</td>\n",
       "      <td>Sedan</td>\n",
       "      <td>Sedan</td>\n",
       "      <td>NaN</td>\n",
       "      <td>NaN</td>\n",
       "      <td>NaN</td>\n",
       "    </tr>\n",
       "    <tr>\n",
       "      <th>2018241</th>\n",
       "      <td>2023-07-22 21:39:00</td>\n",
       "      <td>BRONX</td>\n",
       "      <td>10457.0</td>\n",
       "      <td>40.844177</td>\n",
       "      <td>-73.902920</td>\n",
       "      <td>(40.844177, -73.90292)</td>\n",
       "      <td>EAST 174 STREET</td>\n",
       "      <td>WEBSTER AVENUE</td>\n",
       "      <td>NaN</td>\n",
       "      <td>1.0</td>\n",
       "      <td>...</td>\n",
       "      <td>NaN</td>\n",
       "      <td>NaN</td>\n",
       "      <td>NaN</td>\n",
       "      <td>NaN</td>\n",
       "      <td>4648117</td>\n",
       "      <td>Sedan</td>\n",
       "      <td>NaN</td>\n",
       "      <td>NaN</td>\n",
       "      <td>NaN</td>\n",
       "      <td>NaN</td>\n",
       "    </tr>\n",
       "    <tr>\n",
       "      <th>2018242</th>\n",
       "      <td>2023-07-02 17:55:00</td>\n",
       "      <td>MANHATTAN</td>\n",
       "      <td>10006.0</td>\n",
       "      <td>40.711033</td>\n",
       "      <td>-74.014540</td>\n",
       "      <td>(40.711033, -74.01454)</td>\n",
       "      <td>WEST STREET</td>\n",
       "      <td>LIBERTY STREET</td>\n",
       "      <td>NaN</td>\n",
       "      <td>0.0</td>\n",
       "      <td>...</td>\n",
       "      <td>NaN</td>\n",
       "      <td>NaN</td>\n",
       "      <td>NaN</td>\n",
       "      <td>NaN</td>\n",
       "      <td>4648366</td>\n",
       "      <td>Taxi</td>\n",
       "      <td>NaN</td>\n",
       "      <td>NaN</td>\n",
       "      <td>NaN</td>\n",
       "      <td>NaN</td>\n",
       "    </tr>\n",
       "    <tr>\n",
       "      <th>2018243</th>\n",
       "      <td>2023-07-22 13:15:00</td>\n",
       "      <td>QUEENS</td>\n",
       "      <td>11433.0</td>\n",
       "      <td>40.691580</td>\n",
       "      <td>-73.793190</td>\n",
       "      <td>(40.69158, -73.79319)</td>\n",
       "      <td>110 AVENUE</td>\n",
       "      <td>157 STREET</td>\n",
       "      <td>NaN</td>\n",
       "      <td>1.0</td>\n",
       "      <td>...</td>\n",
       "      <td>Driver Inattention/Distraction</td>\n",
       "      <td>NaN</td>\n",
       "      <td>NaN</td>\n",
       "      <td>NaN</td>\n",
       "      <td>4648129</td>\n",
       "      <td>Station Wagon/Sport Utility Vehicle</td>\n",
       "      <td>E-Bike</td>\n",
       "      <td>NaN</td>\n",
       "      <td>NaN</td>\n",
       "      <td>NaN</td>\n",
       "    </tr>\n",
       "    <tr>\n",
       "      <th>2018244</th>\n",
       "      <td>2023-07-22 03:00:00</td>\n",
       "      <td>QUEENS</td>\n",
       "      <td>11433.0</td>\n",
       "      <td>40.700240</td>\n",
       "      <td>-73.792854</td>\n",
       "      <td>(40.70024, -73.792854)</td>\n",
       "      <td>SOUTH ROAD</td>\n",
       "      <td>164 STREET</td>\n",
       "      <td>NaN</td>\n",
       "      <td>0.0</td>\n",
       "      <td>...</td>\n",
       "      <td>NaN</td>\n",
       "      <td>NaN</td>\n",
       "      <td>NaN</td>\n",
       "      <td>NaN</td>\n",
       "      <td>4647913</td>\n",
       "      <td>Sedan</td>\n",
       "      <td>NaN</td>\n",
       "      <td>NaN</td>\n",
       "      <td>NaN</td>\n",
       "      <td>NaN</td>\n",
       "    </tr>\n",
       "  </tbody>\n",
       "</table>\n",
       "<p>2018245 rows × 28 columns</p>\n",
       "</div>"
      ],
      "text/plain": [
       "        CRASH DATE_CRASH TIME    BOROUGH ZIP CODE   LATITUDE  LONGITUDE  \\\n",
       "0         2021-09-11 02:39:00        NaN      NaN        NaN        NaN   \n",
       "1         2022-03-26 11:45:00        NaN      NaN        NaN        NaN   \n",
       "2         2022-06-29 06:55:00        NaN      NaN        NaN        NaN   \n",
       "3         2021-09-11 09:35:00   BROOKLYN  11208.0  40.667202 -73.866500   \n",
       "4         2021-12-14 08:13:00   BROOKLYN  11233.0  40.683304 -73.917274   \n",
       "...                       ...        ...      ...        ...        ...   \n",
       "2018240   2023-07-03 18:05:00        NaN      NaN  40.866806 -73.931010   \n",
       "2018241   2023-07-22 21:39:00      BRONX  10457.0  40.844177 -73.902920   \n",
       "2018242   2023-07-02 17:55:00  MANHATTAN  10006.0  40.711033 -74.014540   \n",
       "2018243   2023-07-22 13:15:00     QUEENS  11433.0  40.691580 -73.793190   \n",
       "2018244   2023-07-22 03:00:00     QUEENS  11433.0  40.700240 -73.792854   \n",
       "\n",
       "                        LOCATION           ON STREET NAME CROSS STREET NAME  \\\n",
       "0                            NaN    WHITESTONE EXPRESSWAY         20 AVENUE   \n",
       "1                            NaN  QUEENSBORO BRIDGE UPPER               NaN   \n",
       "2                            NaN       THROGS NECK BRIDGE               NaN   \n",
       "3          (40.667202, -73.8665)                      NaN               NaN   \n",
       "4        (40.683304, -73.917274)          SARATOGA AVENUE    DECATUR STREET   \n",
       "...                          ...                      ...               ...   \n",
       "2018240   (40.866806, -73.93101)          RIVERSIDE DRIVE               NaN   \n",
       "2018241   (40.844177, -73.90292)          EAST 174 STREET    WEBSTER AVENUE   \n",
       "2018242   (40.711033, -74.01454)              WEST STREET    LIBERTY STREET   \n",
       "2018243    (40.69158, -73.79319)               110 AVENUE        157 STREET   \n",
       "2018244   (40.70024, -73.792854)               SOUTH ROAD        164 STREET   \n",
       "\n",
       "                 OFF STREET NAME  NUMBER OF PERSONS INJURED  ...  \\\n",
       "0                            NaN                        2.0  ...   \n",
       "1                            NaN                        1.0  ...   \n",
       "2                            NaN                        0.0  ...   \n",
       "3        1211      LORING AVENUE                        0.0  ...   \n",
       "4                            NaN                        0.0  ...   \n",
       "...                          ...                        ...  ...   \n",
       "2018240                      NaN                        0.0  ...   \n",
       "2018241                      NaN                        1.0  ...   \n",
       "2018242                      NaN                        0.0  ...   \n",
       "2018243                      NaN                        1.0  ...   \n",
       "2018244                      NaN                        0.0  ...   \n",
       "\n",
       "          CONTRIBUTING FACTOR VEHICLE 2  CONTRIBUTING FACTOR VEHICLE 3  \\\n",
       "0                           Unspecified                            NaN   \n",
       "1                                   NaN                            NaN   \n",
       "2                           Unspecified                            NaN   \n",
       "3                                   NaN                            NaN   \n",
       "4                                   NaN                            NaN   \n",
       "...                                 ...                            ...   \n",
       "2018240                     Unspecified                            NaN   \n",
       "2018241                             NaN                            NaN   \n",
       "2018242                             NaN                            NaN   \n",
       "2018243  Driver Inattention/Distraction                            NaN   \n",
       "2018244                             NaN                            NaN   \n",
       "\n",
       "         CONTRIBUTING FACTOR VEHICLE 4  CONTRIBUTING FACTOR VEHICLE 5  \\\n",
       "0                                  NaN                            NaN   \n",
       "1                                  NaN                            NaN   \n",
       "2                                  NaN                            NaN   \n",
       "3                                  NaN                            NaN   \n",
       "4                                  NaN                            NaN   \n",
       "...                                ...                            ...   \n",
       "2018240                            NaN                            NaN   \n",
       "2018241                            NaN                            NaN   \n",
       "2018242                            NaN                            NaN   \n",
       "2018243                            NaN                            NaN   \n",
       "2018244                            NaN                            NaN   \n",
       "\n",
       "         COLLISION_ID                  VEHICLE TYPE CODE 1  \\\n",
       "0             4455765                                Sedan   \n",
       "1             4513547                                Sedan   \n",
       "2             4541903                                Sedan   \n",
       "3             4456314                                Sedan   \n",
       "4             4486609                                  NaN   \n",
       "...               ...                                  ...   \n",
       "2018240       4648110                                Sedan   \n",
       "2018241       4648117                                Sedan   \n",
       "2018242       4648366                                 Taxi   \n",
       "2018243       4648129  Station Wagon/Sport Utility Vehicle   \n",
       "2018244       4647913                                Sedan   \n",
       "\n",
       "         VEHICLE TYPE CODE 2 VEHICLE TYPE CODE 3 VEHICLE TYPE CODE 4  \\\n",
       "0                      Sedan                 NaN                 NaN   \n",
       "1                        NaN                 NaN                 NaN   \n",
       "2              Pick-up Truck                 NaN                 NaN   \n",
       "3                        NaN                 NaN                 NaN   \n",
       "4                        NaN                 NaN                 NaN   \n",
       "...                      ...                 ...                 ...   \n",
       "2018240                Sedan                 NaN                 NaN   \n",
       "2018241                  NaN                 NaN                 NaN   \n",
       "2018242                  NaN                 NaN                 NaN   \n",
       "2018243               E-Bike                 NaN                 NaN   \n",
       "2018244                  NaN                 NaN                 NaN   \n",
       "\n",
       "        VEHICLE TYPE CODE 5  \n",
       "0                       NaN  \n",
       "1                       NaN  \n",
       "2                       NaN  \n",
       "3                       NaN  \n",
       "4                       NaN  \n",
       "...                     ...  \n",
       "2018240                 NaN  \n",
       "2018241                 NaN  \n",
       "2018242                 NaN  \n",
       "2018243                 NaN  \n",
       "2018244                 NaN  \n",
       "\n",
       "[2018245 rows x 28 columns]"
      ]
     },
     "execution_count": 3,
     "metadata": {},
     "output_type": "execute_result"
    }
   ],
   "source": [
    "df = pd.read_pickle(r\"Motor_Vehicle_Collisions_-_Crashes.pkl\")\n",
    "df"
   ]
  },
  {
   "cell_type": "code",
   "execution_count": null,
   "id": "025a6dd9-fd7a-4ebb-9837-4e3448c87658",
   "metadata": {},
   "outputs": [],
   "source": []
  },
  {
   "cell_type": "markdown",
   "id": "18690b12-98ae-418d-9f99-68e5b9db001d",
   "metadata": {},
   "source": [
    "### Borough with the second highest number of crashes reported since 2012\n"
   ]
  },
  {
   "cell_type": "code",
   "execution_count": 7,
   "id": "b4cdc788-d07d-4cc0-8d0c-d7700b592f10",
   "metadata": {},
   "outputs": [
    {
     "name": "stdout",
     "output_type": "stream",
     "text": [
      "BOROUGH\n",
      "BROOKLYN         441026\n",
      "QUEENS           372457\n",
      "MANHATTAN        313266\n",
      "BRONX            205345\n",
      "STATEN ISLAND     58297\n",
      "Name: count, dtype: int64\n"
     ]
    }
   ],
   "source": [
    "#Calculate the number of accidents in each administrative district\n",
    "borough_crash_counts = df['BOROUGH'].value_counts()\n",
    "print(borough_crash_counts)"
   ]
  },
  {
   "cell_type": "code",
   "execution_count": null,
   "id": "30d94c11-259c-445d-8aac-030fa540cf2c",
   "metadata": {},
   "outputs": [],
   "source": []
  },
  {
   "cell_type": "markdown",
   "id": "9680fdee-40a6-49a3-adea-f8e8abdaad9c",
   "metadata": {},
   "source": [
    "### Borough with the minimum number of crashes adjusted for population¶"
   ]
  },
  {
   "cell_type": "code",
   "execution_count": 6,
   "id": "a9bf257a-e875-470b-a128-a98362c319ba",
   "metadata": {},
   "outputs": [
    {
     "name": "stdout",
     "output_type": "stream",
     "text": [
      "{'BROOKLYN': 16652.2179748774, 'QUEENS': 15983.255338916317, 'MANHATTAN': 19121.628096767283, 'BRONX': 14193.164444272415, 'STATEN ISLAND': 11966.827806345003}\n"
     ]
    }
   ],
   "source": [
    "#Define population estimates for each borough.\n",
    "population_estimates = {\n",
    "    'BRONX': 1446788,\n",
    "    'BROOKLYN': 2648452,\n",
    "    'MANHATTAN': 1638281,\n",
    "    'QUEENS': 2330295,\n",
    "    'STATEN ISLAND': 487155\n",
    "}\n",
    "\n",
    "#Calculate the crashes per 100,000 people in each borough.\n",
    "crashes_per_100k = {borough: (crash_count / population_estimates[borough]) * 100000 for borough, crash_count in borough_crash_counts.items()}\n",
    "\n",
    "print(crashes_per_100k)"
   ]
  },
  {
   "cell_type": "code",
   "execution_count": null,
   "id": "4edc4666-f9fd-4507-a0e8-4ac9b2ca9be5",
   "metadata": {},
   "outputs": [],
   "source": []
  },
  {
   "cell_type": "markdown",
   "id": "84bc8841-dfa4-498e-9622-28cf1f0791c0",
   "metadata": {},
   "source": [
    "### Analyzing the leading cause of crashes"
   ]
  },
  {
   "cell_type": "code",
   "execution_count": 8,
   "id": "3600603a-46d4-462c-9af1-d91ba98bd956",
   "metadata": {},
   "outputs": [
    {
     "name": "stdout",
     "output_type": "stream",
     "text": [
      "CONTRIBUTING FACTOR VEHICLE 1\n",
      "Driver Inattention/Distraction                           30.417970\n",
      "Failure to Yield Right-of-Way                             9.033469\n",
      "Following Too Closely                                     8.146617\n",
      "Backing Unsafely                                          5.688616\n",
      "Other Vehicular                                           4.752111\n",
      "Passing or Lane Usage Improper                            4.203050\n",
      "Turning Improperly                                        3.783314\n",
      "Passing Too Closely                                       3.778765\n",
      "Fatigued/Drowsy                                           3.588872\n",
      "Unsafe Lane Changing                                      3.010322\n",
      "Traffic Control Disregarded                               2.669121\n",
      "Driver Inexperience                                       2.370749\n",
      "Unsafe Speed                                              2.040312\n",
      "Alcohol Involvement                                       1.641650\n",
      "Lost Consciousness                                        1.544467\n",
      "Reaction to Uninvolved Vehicle                            1.478364\n",
      "Pavement Slippery                                         1.460625\n",
      "Prescription Medication                                   1.167939\n",
      "View Obstructed/Limited                                   1.001773\n",
      "Outside Car Distraction                                   0.959473\n",
      "Oversized Vehicle                                         0.936353\n",
      "Physical Disability                                       0.708177\n",
      "Aggressive Driving/Road Rage                              0.702189\n",
      "Pedestrian/Bicyclist/Other Pedestrian Error/Confusion     0.691045\n",
      "Passenger Distraction                                     0.600761\n",
      "Brakes Defective                                          0.511007\n",
      "Fell Asleep                                               0.413824\n",
      "Obstruction/Debris                                        0.314063\n",
      "Glare                                                     0.304891\n",
      "Failure to Keep Right                                     0.245535\n",
      "Steering Failure                                          0.211574\n",
      "Tire Failure/Inadequate                                   0.185952\n",
      "Pavement Defective                                        0.182010\n",
      "Other Electronic Device                                   0.176703\n",
      "Illness                                                   0.163589\n",
      "Illnes                                                    0.120076\n",
      "Animals Action                                            0.115073\n",
      "Reaction to Other Uninvolved Vehicle                      0.101352\n",
      "Driverless/Runaway Vehicle                                0.091649\n",
      "Accelerator Defective                                     0.080354\n",
      "Lane Marking Improper/Inadequate                          0.073532\n",
      "Traffic Control Device Improper/Non-Working               0.064207\n",
      "Drugs (illegal)                                           0.063525\n",
      "Cell Phone (hand-Held)                                    0.038130\n",
      "Drugs (Illegal)                                           0.031763\n",
      "Cell Phone (hands-free)                                   0.020392\n",
      "Tow Hitch Defective                                       0.016147\n",
      "Other Lighting Defects                                    0.013948\n",
      "Tinted Windows                                            0.012281\n",
      "Using On Board Navigation Device                          0.011219\n",
      "Vehicle Vandalism                                         0.009931\n",
      "Headlights Defective                                      0.009855\n",
      "Eating or Drinking                                        0.008793\n",
      "80                                                        0.007656\n",
      "Shoulders Defective/Improper                              0.006671\n",
      "Cell Phone (hand-held)                                    0.005989\n",
      "Windshield Inadequate                                     0.005837\n",
      "Texting                                                   0.003790\n",
      "Listening/Using Headphones                                0.001819\n",
      "1                                                         0.000758\n",
      "Name: count, dtype: float64\n"
     ]
    }
   ],
   "source": [
    "# # Delete the row in which the influencing factor vehicle 1 is \"unspecified\"\n",
    "specified_crashes = df[df['CONTRIBUTING FACTOR VEHICLE 1']!= 'Unspecified']\n",
    "\n",
    "# Find the main causes of crashes and calculate their proportion\n",
    "leading_cause_count = specified_crashes['CONTRIBUTING FACTOR VEHICLE 1'].value_counts()\n",
    "total_specified_crashes = specified_crashes['CONTRIBUTING FACTOR VEHICLE 1'].count()\n",
    "leading_cause_proportion = (leading_cause_count/total_specified_crashes)*100\n",
    "print(leading_cause_proportion)"
   ]
  },
  {
   "cell_type": "code",
   "execution_count": null,
   "id": "90b1dcd9-f0bd-4344-b9ee-3ac0b4319a53",
   "metadata": {},
   "outputs": [],
   "source": []
  },
  {
   "cell_type": "markdown",
   "id": "3e36d28c-6b6d-4a02-b6bc-7182a14315f7",
   "metadata": {},
   "source": [
    "### Top 5 causes of crashes"
   ]
  },
  {
   "cell_type": "code",
   "execution_count": 9,
   "id": "960956c6-e414-4720-8800-f8746a94e836",
   "metadata": {},
   "outputs": [
    {
     "name": "stdout",
     "output_type": "stream",
     "text": [
      "58.038783742090615\n"
     ]
    }
   ],
   "source": [
    "# Calculate the proportion of total crashes accounted for by the top 5 causes\n",
    "top_5_causes_proportion = (leading_cause_count.head(5).sum()/total_specified_crashes)*100\n",
    "print(top_5_causes_proportion)"
   ]
  },
  {
   "cell_type": "code",
   "execution_count": null,
   "id": "8af17323-432c-48a6-af7f-61860491ff68",
   "metadata": {},
   "outputs": [],
   "source": []
  },
  {
   "cell_type": "markdown",
   "id": "1935c20b-3f0a-4a65-b575-7a17b6686395",
   "metadata": {},
   "source": [
    "### Accidents involved two or more fatalities"
   ]
  },
  {
   "cell_type": "code",
   "execution_count": 10,
   "id": "ae85103c-a69e-464d-925f-011210fecd0f",
   "metadata": {},
   "outputs": [
    {
     "name": "stdout",
     "output_type": "stream",
     "text": [
      "88\n"
     ]
    }
   ],
   "source": [
    "# Treat missing values in \"NUMBER OF PERSONS KILLED\" as 0 and count accidents with 2 or more fatalities\n",
    "df['NUMBER OF PERSONS KILLED']=df['NUMBER OF PERSONS KILLED'].fillna(0)\n",
    "accident_with_2_or_more_fatalities = df[df['NUMBER OF PERSONS KILLED'] >= 2].shape[0]\n",
    "print(accident_with_2_or_more_fatalities)"
   ]
  },
  {
   "cell_type": "code",
   "execution_count": null,
   "id": "e7e94c54-f31a-4a1f-af4b-3df9854a69da",
   "metadata": {},
   "outputs": [],
   "source": []
  },
  {
   "cell_type": "markdown",
   "id": "08fb60df-1885-4d9d-8bcc-9cc873858051",
   "metadata": {},
   "source": [
    "### At least one person died in every 1000 accidents¶"
   ]
  },
  {
   "cell_type": "code",
   "execution_count": 11,
   "id": "b04aabbf-2476-4357-9989-13e24e9d6f20",
   "metadata": {},
   "outputs": [
    {
     "name": "stdout",
     "output_type": "stream",
     "text": [
      "1.3893258747079764\n"
     ]
    }
   ],
   "source": [
    "# Calculate the count of accidents with 1 or more deaths\n",
    "accident_with_1_or_more_fatalities = df[df['NUMBER OF PERSONS KILLED'] >= 1].shape[0]\n",
    "\n",
    "# Calculate the total number of accidents\n",
    "total_accident = df.shape[0]\n",
    "\n",
    "# Calculate the average number of accidents resulting in at least one death per 1000 accidents\n",
    "avg_died_per_1000_accidents = (accident_with_1_or_more_fatalities / total_accident) * 1000\n",
    "print(avg_died_per_1000_accidents)"
   ]
  },
  {
   "cell_type": "code",
   "execution_count": null,
   "id": "8d8af673-c7e2-4956-9ae0-b075412ac56e",
   "metadata": {},
   "outputs": [],
   "source": []
  },
  {
   "cell_type": "markdown",
   "id": "34cb6c39-f3d9-4194-96dc-77334a60d816",
   "metadata": {},
   "source": [
    "### Accidents without a Cross Street Name¶"
   ]
  },
  {
   "cell_type": "code",
   "execution_count": 12,
   "id": "08631319-c47d-4519-9ae4-dee75d3b48cf",
   "metadata": {},
   "outputs": [
    {
     "name": "stdout",
     "output_type": "stream",
     "text": [
      "37.4350983156158\n"
     ]
    }
   ],
   "source": [
    "# Calculate the proportion of accidents without a Cross Street Name\n",
    "accidents_without_Cross_Street_Name = df['CROSS STREET NAME'].isna().sum()\n",
    "proportion_without_cross_street = (accidents_without_Cross_Street_Name/ total_accident) * 100\n",
    "print(proportion_without_cross_street)"
   ]
  },
  {
   "cell_type": "code",
   "execution_count": null,
   "id": "680472b5-d8ae-4e29-b9ef-9703f10981a0",
   "metadata": {},
   "outputs": [],
   "source": []
  },
  {
   "cell_type": "markdown",
   "id": "adca8d96-41d2-4dd1-8775-1b59bb741135",
   "metadata": {},
   "source": [
    "### Combination of vehicles have the most accidents¶"
   ]
  },
  {
   "cell_type": "code",
   "execution_count": 14,
   "id": "f12a0df0-8c0e-4463-bb8f-0ae208a042b6",
   "metadata": {},
   "outputs": [
    {
     "name": "stdout",
     "output_type": "stream",
     "text": [
      "('Sedan', 'Sedan')\n"
     ]
    }
   ],
   "source": [
    "# Calculate the most combination of 'VEHICLE TYPE CODE 1' and 'VEHICLE TYPE CODE 2'\n",
    "most_vhicles_combination = df.groupby(['VEHICLE TYPE CODE 1', 'VEHICLE TYPE CODE 2']).size().idxmax()\n",
    "print(most_vhicles_combination)"
   ]
  },
  {
   "cell_type": "code",
   "execution_count": null,
   "id": "8f2b2081-6f8e-4ec4-ba92-2cbf2b79173b",
   "metadata": {},
   "outputs": [],
   "source": []
  },
  {
   "cell_type": "markdown",
   "id": "0edcd208-aeb3-414a-bee2-7a38966c8bed",
   "metadata": {},
   "source": [
    "### Accidents where the contributing factor was Alcohol Involvement"
   ]
  },
  {
   "cell_type": "code",
   "execution_count": 15,
   "id": "a28ed7ed-2b8b-4176-b9cf-aa4037d1ce49",
   "metadata": {},
   "outputs": [
    {
     "name": "stdout",
     "output_type": "stream",
     "text": [
      "0.46638345031400075\n"
     ]
    }
   ],
   "source": [
    "# Filter accidents where the contributing factor was Alcohol Involvement\n",
    "alcohol_accidents = df[df['CONTRIBUTING FACTOR VEHICLE 1'] == 'Alcohol Involvement']\n",
    "\n",
    "# Calculate the proportion of these accidents that resulted in fatalities\n",
    "fatality_in_alcohol_accidents = alcohol_accidents[alcohol_accidents['NUMBER OF PERSONS KILLED']> 0].shape[0]\n",
    "proportion_alcohol_accidents = (fatality_in_alcohol_accidents /alcohol_accidents.shape[0]) *100\n",
    "print(proportion_alcohol_accidents)"
   ]
  },
  {
   "cell_type": "code",
   "execution_count": null,
   "id": "9c220de4-254e-41b7-a570-908df5108443",
   "metadata": {},
   "outputs": [],
   "source": []
  },
  {
   "cell_type": "markdown",
   "id": "20c5fe5d-df12-4167-a1f5-50b9ee3e3ab5",
   "metadata": {},
   "source": [
    "### Proportion of crashes during the evening rush hour¶"
   ]
  },
  {
   "cell_type": "code",
   "execution_count": 24,
   "id": "6a4c3d9f-465c-4d0a-bb0f-a1a6b8d37226",
   "metadata": {},
   "outputs": [
    {
     "name": "stdout",
     "output_type": "stream",
     "text": [
      "20.514010935243242\n"
     ]
    }
   ],
   "source": [
    "import pandas as pd\n",
    "\n",
    "# Filter crashes that occur between 4 PM and before 7 PM\n",
    "evening_rush_hour_df = df[(df['CRASH DATE_CRASH TIME'].dt.hour >= 16) & (df['CRASH DATE_CRASH TIME'].dt.hour < 19)]\n",
    "\n",
    "#Calculate the total number of crashes\n",
    "total_crashes = len(df)\n",
    "#Calculate the number of crashes during the evening rush hour\n",
    "evening_rush_hour_crashes = len(evening_rush_hour_df)\n",
    "\n",
    "# Calculate the proportion of crashes during the evening rush hour\n",
    "proportion_evening_rush_hour_crashes = (evening_rush_hour_crashes / total_crashes) * 100\n",
    "print(proportion_evening_rush_hour_crashes)"
   ]
  },
  {
   "cell_type": "code",
   "execution_count": null,
   "id": "95292d3d-b23f-4416-9f38-53ca980b7c3d",
   "metadata": {},
   "outputs": [],
   "source": []
  },
  {
   "cell_type": "markdown",
   "id": "f119e471-bf36-492c-b2a9-1b70ccf5a515",
   "metadata": {},
   "source": [
    "### Proportion resulted in injuries but no fatalities in motorcycles"
   ]
  },
  {
   "cell_type": "code",
   "execution_count": 25,
   "id": "3e184bf0-fd24-4082-a5c7-40e95e69707b",
   "metadata": {
    "scrolled": true
   },
   "outputs": [
    {
     "name": "stdout",
     "output_type": "stream",
     "text": [
      "55.68789838552086\n"
     ]
    }
   ],
   "source": [
    "import pandas as pd\n",
    "\n",
    "# Correcting for potential missing values interpretation in 'NUMBER OF PERSONS KILLED' and 'NUMBER OF PERSONS INJURED'\n",
    "df['NUMBER OF PERSONS KILLED'] = df['NUMBER OF PERSONS KILLED'].fillna(0)\n",
    "df['NUMBER OF PERSONS INJURED'] = df['NUMBER OF PERSONS INJURED'].fillna(0)\n",
    "\n",
    "# Filter accidents involving motorcycles in either VEHICLE TYPE CODE 1 or VEHICLE TYPE CODE 2\n",
    "motorcycle_accidents = df[(df['VEHICLE TYPE CODE 1'].str.contains('MOTORCYCLE', case=False, na=False)) | \n",
    "                            (df['VEHICLE TYPE CODE 2'].str.contains('MOTORCYCLE', case=False, na=False))]\n",
    "\n",
    "# Filter for accidents with injuries but no fatalities\n",
    "motorcycle_injuries_no_fatalities = motorcycle_accidents[(motorcycle_accidents['NUMBER OF PERSONS INJURED'] > 0) & \n",
    "                                                         (motorcycle_accidents['NUMBER OF PERSONS KILLED'] == 0)].shape[0]\n",
    "\n",
    "# Calculate the proportion of such accidents among motorcycle accidents\n",
    "proportion_injuries_no_fatalities_motorcycle = (motorcycle_injuries_no_fatalities / motorcycle_accidents.shape[0]) * 100\n",
    "print(proportion_injuries_no_fatalities_motorcycle)\n"
   ]
  },
  {
   "cell_type": "code",
   "execution_count": null,
   "id": "4bdde1a4-b67f-41ed-bdbc-f3f7f5ba4e79",
   "metadata": {},
   "outputs": [],
   "source": []
  },
  {
   "cell_type": "markdown",
   "id": "e215452f-f566-4e00-b002-7d851485558f",
   "metadata": {},
   "source": [
    "### Crashes involved bicycles as one of the vehicles"
   ]
  },
  {
   "cell_type": "code",
   "execution_count": 26,
   "id": "82af4ccc-8540-46bb-a896-de6aec4b19d5",
   "metadata": {},
   "outputs": [
    {
     "name": "stdout",
     "output_type": "stream",
     "text": [
      "19108\n"
     ]
    }
   ],
   "source": [
    "import pandas as pd\n",
    "\n",
    "# Filter accidents involving bicycles in either VEHICLE TYPE CODE 1 or VEHICLE TYPE CODE 2\n",
    "bicycle_accidents = df[(df['VEHICLE TYPE CODE 1'].str.contains('BICYCLE', case=False, na=False)) | \n",
    "                         (df['VEHICLE TYPE CODE 2'].str.contains('BICYCLE', case=False, na=False))].shape[0]\n",
    "print(bicycle_accidents)"
   ]
  },
  {
   "cell_type": "code",
   "execution_count": null,
   "id": "01bc97c2-304b-426e-a55a-402372e6445e",
   "metadata": {},
   "outputs": [],
   "source": []
  }
 ],
 "metadata": {
  "kernelspec": {
   "display_name": "Python [conda env:mggy8413]",
   "language": "python",
   "name": "conda-env-mggy8413-py"
  },
  "language_info": {
   "codemirror_mode": {
    "name": "ipython",
    "version": 3
   },
   "file_extension": ".py",
   "mimetype": "text/x-python",
   "name": "python",
   "nbconvert_exporter": "python",
   "pygments_lexer": "ipython3",
   "version": "3.11.8"
  }
 },
 "nbformat": 4,
 "nbformat_minor": 5
}
